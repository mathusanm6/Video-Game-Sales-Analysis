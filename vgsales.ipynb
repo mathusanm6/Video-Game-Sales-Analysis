{
 "cells": [
  {
   "cell_type": "markdown",
   "metadata": {},
   "source": [
    "`pip install pandas`"
   ]
  },
  {
   "cell_type": "code",
   "execution_count": 2,
   "metadata": {},
   "outputs": [],
   "source": [
    "import pandas as pd"
   ]
  },
  {
   "cell_type": "code",
   "execution_count": 4,
   "metadata": {},
   "outputs": [],
   "source": [
    "# Load the datasets with index\n",
    "resources_path = \"resources/\"\n",
    "\n",
    "resources = {\n",
    "    \"vg_sales\": \"video_games_sales_as_at_22_dec_2016.csv\",\n",
    "    \"vg_developers\": \"video_games_developers.csv\"\n",
    "}\n",
    "\n",
    "vg_sales = pd.read_csv(resources_path + resources[\"vg_sales\"], index_col=0)\n",
    "vg_developers = pd.read_csv(resources_path + resources[\"vg_developers\"], index_col=0)"
   ]
  },
  {
   "cell_type": "code",
   "execution_count": null,
   "metadata": {},
   "outputs": [],
   "source": []
  }
 ],
 "metadata": {
  "kernelspec": {
   "display_name": "vgsales_env",
   "language": "python",
   "name": "python3"
  },
  "language_info": {
   "codemirror_mode": {
    "name": "ipython",
    "version": 3
   },
   "file_extension": ".py",
   "mimetype": "text/x-python",
   "name": "python",
   "nbconvert_exporter": "python",
   "pygments_lexer": "ipython3",
   "version": "3.12.5"
  }
 },
 "nbformat": 4,
 "nbformat_minor": 2
}
