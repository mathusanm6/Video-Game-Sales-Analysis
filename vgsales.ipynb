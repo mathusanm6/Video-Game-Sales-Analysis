{
 "cells": [
  {
   "cell_type": "markdown",
   "metadata": {},
   "source": [
    "## Video Games Sales"
   ]
  },
  {
   "cell_type": "markdown",
   "metadata": {},
   "source": [
    "`pip install pandas`"
   ]
  },
  {
   "cell_type": "code",
   "execution_count": 2,
   "metadata": {},
   "outputs": [],
   "source": [
    "import pandas as pd"
   ]
  },
  {
   "cell_type": "code",
   "execution_count": 17,
   "metadata": {},
   "outputs": [],
   "source": [
    "# Load the datasets with index\n",
    "resources_path = \"resources/\"\n",
    "\n",
    "resources = {\n",
    "    \"vg_sales\": \"video_games_sales_as_at_22_dec_2016.csv\",\n",
    "    \"vg_developers\": \"video_games_developers.csv\"\n",
    "}\n",
    "\n",
    "# vg_sales\n",
    "vg_sales = pd.read_csv(resources_path + resources[\"vg_sales\"], index_col=0)\n",
    "\n",
    "# vg_developers\n",
    "vg_developers = pd.read_csv(resources_path + resources[\"vg_developers\"], index_col=0)\n",
    "vg_developers = vg_developers.iloc[:, [0, 2, 3]]\n",
    "vg_developers.rename(columns={'Est.': 'Year_of_Establishment'}, inplace=True)"
   ]
  },
  {
   "cell_type": "code",
   "execution_count": 18,
   "metadata": {},
   "outputs": [
    {
     "name": "stdout",
     "output_type": "stream",
     "text": [
      "vg_sales.columns : Index(['Platform', 'Year_of_Release', 'Genre', 'Publisher', 'NA_Sales',\n",
      "       'EU_Sales', 'JP_Sales', 'Other_Sales', 'Global_Sales', 'Critic_Score',\n",
      "       'Critic_Count', 'User_Score', 'User_Count', 'Developer', 'Rating'],\n",
      "      dtype='object')\n",
      "vg_developers.columns : Index(['City', 'Country', 'Year_of_Establishment'], dtype='object')\n"
     ]
    }
   ],
   "source": [
    "# columns\n",
    "print(\"vg_sales.columns :\", vg_sales.columns)\n",
    "print(\"vg_developers.columns :\", vg_developers.columns)"
   ]
  },
  {
   "cell_type": "code",
   "execution_count": null,
   "metadata": {},
   "outputs": [],
   "source": []
  }
 ],
 "metadata": {
  "kernelspec": {
   "display_name": "vgsales_env",
   "language": "python",
   "name": "python3"
  },
  "language_info": {
   "codemirror_mode": {
    "name": "ipython",
    "version": 3
   },
   "file_extension": ".py",
   "mimetype": "text/x-python",
   "name": "python",
   "nbconvert_exporter": "python",
   "pygments_lexer": "ipython3",
   "version": "3.12.5"
  }
 },
 "nbformat": 4,
 "nbformat_minor": 2
}
