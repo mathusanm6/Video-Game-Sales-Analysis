{
 "cells": [
  {
   "cell_type": "markdown",
   "metadata": {},
   "source": [
    "## Video Games Sales"
   ]
  },
  {
   "cell_type": "markdown",
   "metadata": {},
   "source": [
    "`pip install pandas`"
   ]
  },
  {
   "cell_type": "code",
   "execution_count": 2,
   "metadata": {},
   "outputs": [],
   "source": [
    "from datetime import datetime\n",
    "import filecmp\n",
    "import os\n",
    "import pandas as pd\n",
    "\n",
    "resources_path = \"resources/\"\n",
    "\n",
    "vg_sales_path = resources_path + \"vg_sales/\"\n",
    "vg_sales_res = {\n",
    "    \"v0\": \"vg_sales_v0.csv\",\n",
    "    \"v1\": \"vg_sales_v1.csv\",\n",
    "    \"extended_release_year\": \"vg_sales_extended_release_year.csv\",\n",
    "    \"extended_release_year_2\": \"vg_sales_extended_release_year_2.csv\",\n",
    "    \"filled_year\": \"vg_sales_filled_year.csv\",\n",
    "    \"filled_year_2\": \"vg_sales_filled_year_2.csv\",\n",
    "}\n",
    "\n",
    "vg_developers_path = resources_path + \"vg_developers/\"\n",
    "vg_developers_res = {\n",
    "    \"v0\": \"vg_developers.csv\",\n",
    "}\n",
    "\n",
    "results_path = \"results/\""
   ]
  },
  {
   "cell_type": "code",
   "execution_count": 3,
   "metadata": {},
   "outputs": [],
   "source": [
    "def save_to_csv(df, folder_path, filename):\n",
    "    # Generate the full path for the new file\n",
    "    new_file_path = os.path.join(folder_path, filename)\n",
    "    \n",
    "    # Check if the folder exists\n",
    "    if not os.path.exists(folder_path):\n",
    "        os.makedirs(folder_path)\n",
    "    \n",
    "    # Save the dataframe to a temporary file\n",
    "    temp_file_path = os.path.join(folder_path, 'temp_' + filename)\n",
    "    df.to_csv(temp_file_path, index=True)\n",
    "    \n",
    "    # Compare the temporary file with existing files in the folder\n",
    "    for existing_file in os.listdir(folder_path):\n",
    "        existing_file_path = os.path.join(folder_path, existing_file)\n",
    "        if existing_file_path != temp_file_path and filecmp.cmp(temp_file_path, existing_file_path, shallow=False):\n",
    "            print(f\"The content of {filename} already exists as {existing_file}. Not saving the file.\")\n",
    "            os.remove(temp_file_path)\n",
    "            return\n",
    "    \n",
    "    # If no matching file is found, rename the temporary file to the new file\n",
    "    os.rename(temp_file_path, new_file_path)\n",
    "    print(f\"File saved as {new_file_path}\")"
   ]
  },
  {
   "cell_type": "code",
   "execution_count": 4,
   "metadata": {},
   "outputs": [],
   "source": [
    "# Load the datasets with index\n",
    "\n",
    "# vg_sales\n",
    "vg_sales = pd.read_csv(vg_sales_path + vg_sales_res[\"v0\"], index_col=0)\n",
    "\n",
    "# vg_developers\n",
    "vg_developers = pd.read_csv(vg_developers_path + vg_developers_res[\"v0\"], index_col=0)\n",
    "vg_developers = vg_developers.iloc[:, [0, 2, 3]]\n",
    "vg_developers.rename(columns={'Est.': 'Year_of_Establishment'}, inplace=True)"
   ]
  },
  {
   "cell_type": "code",
   "execution_count": 5,
   "metadata": {},
   "outputs": [
    {
     "name": "stdout",
     "output_type": "stream",
     "text": [
      "vg_sales.columns : Index(['Platform', 'Year_of_Release', 'Genre', 'Publisher', 'NA_Sales',\n",
      "       'EU_Sales', 'JP_Sales', 'Other_Sales', 'Global_Sales', 'Critic_Score',\n",
      "       'Critic_Count', 'User_Score', 'User_Count', 'Developer', 'Rating'],\n",
      "      dtype='object')\n",
      "vg_developers.columns : Index(['City', 'Country', 'Year_of_Establishment'], dtype='object')\n"
     ]
    }
   ],
   "source": [
    "# columns\n",
    "print(\"vg_sales.columns :\", vg_sales.columns)\n",
    "print(\"vg_developers.columns :\", vg_developers.columns)"
   ]
  },
  {
   "cell_type": "code",
   "execution_count": 6,
   "metadata": {},
   "outputs": [
    {
     "name": "stdout",
     "output_type": "stream",
     "text": [
      "Platform              0\n",
      "Year_of_Release     269\n",
      "Genre                 2\n",
      "Publisher            54\n",
      "NA_Sales              0\n",
      "EU_Sales              0\n",
      "JP_Sales              0\n",
      "Other_Sales           0\n",
      "Global_Sales          0\n",
      "Critic_Score       8582\n",
      "Critic_Count       8582\n",
      "User_Score         6704\n",
      "User_Count         9129\n",
      "Developer          6623\n",
      "Rating             6769\n",
      "dtype: int64\n"
     ]
    }
   ],
   "source": [
    "# NaN count\n",
    "nan_count = vg_sales.isna().sum()\n",
    "print(nan_count)"
   ]
  },
  {
   "cell_type": "code",
   "execution_count": 7,
   "metadata": {},
   "outputs": [
    {
     "name": "stdout",
     "output_type": "stream",
     "text": [
      "The content of vg_sales_no_year_20241210_170408.csv already exists as vg_sales_no_year_20241210_162859.csv. Not saving the file.\n"
     ]
    }
   ],
   "source": [
    "# Create a folder in results_path if it doesn't exist\n",
    "folder_name = 'vg_sales_no_year'\n",
    "folder_path = os.path.join(results_path, folder_name)\n",
    "os.makedirs(folder_path, exist_ok=True)\n",
    "\n",
    "# Isolate rows where Year_of_Release is NaN\n",
    "vg_sales_no_year = vg_sales[vg_sales['Year_of_Release'].isna()]\n",
    "\n",
    "# Generate a unique filename based on the current date and time\n",
    "timestamp = datetime.now().strftime('%Y%m%d_%H%M%S')\n",
    "filename = f'vg_sales_no_year_{timestamp}.csv'\n",
    "\n",
    "# Save to a separate CSV file\n",
    "save_to_csv(vg_sales_no_year, folder_path, filename)"
   ]
  },
  {
   "cell_type": "code",
   "execution_count": 8,
   "metadata": {
    "vscode": {
     "languageId": "ruby"
    }
   },
   "outputs": [
    {
     "name": "stdout",
     "output_type": "stream",
     "text": [
      "                         Platform  Year_of_Release         Genre Publisher  \\\n",
      "Name                                                                         \n",
      "Wii Sports                    Wii           2006.0        Sports  Nintendo   \n",
      "Super Mario Bros.             NES           1985.0      Platform  Nintendo   \n",
      "Mario Kart Wii                Wii           2008.0        Racing  Nintendo   \n",
      "Wii Sports Resort             Wii           2009.0        Sports  Nintendo   \n",
      "Pokemon Red/Pokemon Blue       GB           1996.0  Role-Playing  Nintendo   \n",
      "\n",
      "                          NA_Sales  EU_Sales  JP_Sales  Other_Sales  \\\n",
      "Name                                                                  \n",
      "Wii Sports                   41.36     28.96      3.77         8.45   \n",
      "Super Mario Bros.            29.08      3.58      6.81         0.77   \n",
      "Mario Kart Wii               15.68     12.76      3.79         3.29   \n",
      "Wii Sports Resort            15.61     10.93      3.28         2.95   \n",
      "Pokemon Red/Pokemon Blue     11.27      8.89     10.22         1.00   \n",
      "\n",
      "                          Global_Sales  Critic_Score  Critic_Count User_Score  \\\n",
      "Name                                                                            \n",
      "Wii Sports                       82.53          76.0          51.0          8   \n",
      "Super Mario Bros.                40.24           NaN           NaN        NaN   \n",
      "Mario Kart Wii                   35.52          82.0          73.0        8.3   \n",
      "Wii Sports Resort                32.77          80.0          73.0          8   \n",
      "Pokemon Red/Pokemon Blue         31.37           NaN           NaN        NaN   \n",
      "\n",
      "                          User_Count Developer Rating  \n",
      "Name                                                   \n",
      "Wii Sports                     322.0  Nintendo      E  \n",
      "Super Mario Bros.                NaN       NaN    NaN  \n",
      "Mario Kart Wii                 709.0  Nintendo      E  \n",
      "Wii Sports Resort              192.0  Nintendo      E  \n",
      "Pokemon Red/Pokemon Blue         NaN       NaN    NaN  \n",
      "The content of vg_sales_filled_year_20241210_170408.csv already exists as vg_sales_filled_year_20241210_162859.csv. Not saving the file.\n"
     ]
    }
   ],
   "source": [
    "# Load the extended release year data\n",
    "vg_sales_extended = pd.read_csv(vg_sales_path + vg_sales_res[\"extended_release_year\"], index_col=0)\n",
    "\n",
    "# Merge the extended release year data with the original vg_sales dataframe\n",
    "vg_sales = vg_sales.merge(vg_sales_extended[['Year_of_Release']], left_index=True, right_index=True, how='left', suffixes=('', '_extended'))\n",
    "\n",
    "# Update the Year_of_Release column with the extended data where available\n",
    "vg_sales['Year_of_Release'] = vg_sales['Year_of_Release_extended'].combine_first(vg_sales['Year_of_Release'])\n",
    "\n",
    "# Drop the extended column as it's no longer needed\n",
    "vg_sales.drop(columns=['Year_of_Release_extended'], inplace=True)\n",
    "\n",
    "# Display the updated dataframe\n",
    "print(vg_sales.head())\n",
    "\n",
    "# Create a folder in results_path if it doesn't exist\n",
    "folder_name = 'vg_sales_filled_year'\n",
    "folder_path = os.path.join(results_path, folder_name)\n",
    "os.makedirs(folder_path, exist_ok=True)\n",
    "\n",
    "# Generate a unique filename based on the current date and time\n",
    "timestamp = datetime.now().strftime('%Y%m%d_%H%M%S')\n",
    "filename = f'vg_sales_filled_year_{timestamp}.csv'\n",
    "\n",
    "# Save the updated dataframe to a separate CSV file\n",
    "save_to_csv(vg_sales, folder_path, filename)"
   ]
  },
  {
   "cell_type": "code",
   "execution_count": 9,
   "metadata": {
    "vscode": {
     "languageId": "ruby"
    }
   },
   "outputs": [],
   "source": [
    "# vg_sales_filled_year\n",
    "vg_sales_filled_year = pd.read_csv(vg_sales_path + vg_sales_res[\"filled_year\"], index_col=0)"
   ]
  },
  {
   "cell_type": "code",
   "execution_count": 10,
   "metadata": {
    "vscode": {
     "languageId": "ruby"
    }
   },
   "outputs": [
    {
     "name": "stdout",
     "output_type": "stream",
     "text": [
      "The content of vg_sales_filled_year_no_year_20241210_170408.csv already exists as vg_sales_filled_year_no_year_20241210_162927.csv. Not saving the file.\n"
     ]
    }
   ],
   "source": [
    "# Create a folder in results_path if it doesn't exist\n",
    "folder_name = 'vg_sales_filled_year_no_year'\n",
    "folder_path = os.path.join(results_path, folder_name)\n",
    "os.makedirs(folder_path, exist_ok=True)\n",
    "\n",
    "# Isolate rows where Year_of_Release is NaN\n",
    "vg_sales_filled_year_no_year = vg_sales_filled_year[vg_sales_filled_year['Year_of_Release'].isna()]\n",
    "\n",
    "# Generate a unique filename based on the current date and time\n",
    "timestamp = datetime.now().strftime('%Y%m%d_%H%M%S')\n",
    "filename = f'vg_sales_filled_year_no_year_{timestamp}.csv'\n",
    "\n",
    "# Save to a separate CSV file\n",
    "save_to_csv(vg_sales_filled_year_no_year, folder_path, filename)"
   ]
  },
  {
   "cell_type": "code",
   "execution_count": 11,
   "metadata": {
    "vscode": {
     "languageId": "ruby"
    }
   },
   "outputs": [
    {
     "name": "stdout",
     "output_type": "stream",
     "text": [
      "                         Platform  Year_of_Release         Genre Publisher  \\\n",
      "Name                                                                         \n",
      "Wii Sports                    Wii           2006.0        Sports  Nintendo   \n",
      "Super Mario Bros.             NES           1985.0      Platform  Nintendo   \n",
      "Mario Kart Wii                Wii           2008.0        Racing  Nintendo   \n",
      "Wii Sports Resort             Wii           2009.0        Sports  Nintendo   \n",
      "Pokemon Red/Pokemon Blue       GB           1996.0  Role-Playing  Nintendo   \n",
      "\n",
      "                          NA_Sales  EU_Sales  JP_Sales  Other_Sales  \\\n",
      "Name                                                                  \n",
      "Wii Sports                   41.36     28.96      3.77         8.45   \n",
      "Super Mario Bros.            29.08      3.58      6.81         0.77   \n",
      "Mario Kart Wii               15.68     12.76      3.79         3.29   \n",
      "Wii Sports Resort            15.61     10.93      3.28         2.95   \n",
      "Pokemon Red/Pokemon Blue     11.27      8.89     10.22         1.00   \n",
      "\n",
      "                          Global_Sales  Critic_Score  Critic_Count User_Score  \\\n",
      "Name                                                                            \n",
      "Wii Sports                       82.53          76.0          51.0          8   \n",
      "Super Mario Bros.                40.24           NaN           NaN        NaN   \n",
      "Mario Kart Wii                   35.52          82.0          73.0        8.3   \n",
      "Wii Sports Resort                32.77          80.0          73.0          8   \n",
      "Pokemon Red/Pokemon Blue         31.37           NaN           NaN        NaN   \n",
      "\n",
      "                          User_Count Developer Rating  \n",
      "Name                                                   \n",
      "Wii Sports                     322.0  Nintendo      E  \n",
      "Super Mario Bros.                NaN       NaN    NaN  \n",
      "Mario Kart Wii                 709.0  Nintendo      E  \n",
      "Wii Sports Resort              192.0  Nintendo      E  \n",
      "Pokemon Red/Pokemon Blue         NaN       NaN    NaN  \n",
      "The content of vg_sales_filled_year_2_20241210_170408.csv already exists as vg_sales_filled_year_2_20241210_165234.csv. Not saving the file.\n"
     ]
    }
   ],
   "source": [
    "# Load the extended release year data\n",
    "vg_sales_extended_2 = pd.read_csv(vg_sales_path + vg_sales_res[\"extended_release_year_2\"], index_col=0)\n",
    "\n",
    "# Merge the extended release year data with the original vg_sales dataframe\n",
    "vg_sales = vg_sales.merge(vg_sales_extended_2[['Year_of_Release']], left_index=True, right_index=True, how='left', suffixes=('', '_extended'))\n",
    "\n",
    "# Update the Year_of_Release column with the extended data where available\n",
    "vg_sales['Year_of_Release'] = vg_sales['Year_of_Release_extended'].combine_first(vg_sales['Year_of_Release'])\n",
    "\n",
    "# Drop the extended column as it's no longer needed\n",
    "vg_sales.drop(columns=['Year_of_Release_extended'], inplace=True)\n",
    "\n",
    "# Display the updated dataframe\n",
    "print(vg_sales.head())\n",
    "\n",
    "# Create a folder in results_path if it doesn't exist\n",
    "folder_name = 'vg_sales_filled_year_2'\n",
    "folder_path = os.path.join(results_path, folder_name)\n",
    "os.makedirs(folder_path, exist_ok=True)\n",
    "\n",
    "# Generate a unique filename based on the current date and time\n",
    "timestamp = datetime.now().strftime('%Y%m%d_%H%M%S')\n",
    "filename = f'vg_sales_filled_year_2_{timestamp}.csv'\n",
    "\n",
    "# Save the updated dataframe to a separate CSV file\n",
    "save_to_csv(vg_sales, folder_path, filename)"
   ]
  },
  {
   "cell_type": "code",
   "execution_count": null,
   "metadata": {
    "vscode": {
     "languageId": "ruby"
    }
   },
   "outputs": [],
   "source": [
    "# vg_sales_filled_year_2\n",
    "vg_sales_filled_year_2 = pd.read_csv(vg_sales_path + vg_sales_res[\"filled_year_2\"], index_col=0)"
   ]
  },
  {
   "cell_type": "code",
   "execution_count": 13,
   "metadata": {
    "vscode": {
     "languageId": "ruby"
    }
   },
   "outputs": [
    {
     "name": "stdout",
     "output_type": "stream",
     "text": [
      "The content of vg_sales_filled_year_2_no_year_20241210_170408.csv already exists as vg_sales_filled_year_2_no_year_20241210_165438.csv. Not saving the file.\n"
     ]
    }
   ],
   "source": [
    "# Create a folder in results_path if it doesn't exist\n",
    "folder_name = 'vg_sales_filled_year_2_no_year'\n",
    "folder_path = os.path.join(results_path, folder_name)\n",
    "os.makedirs(folder_path, exist_ok=True)\n",
    "\n",
    "# Isolate rows where Year_of_Release is NaN\n",
    "vg_sales_filled_year_2_no_year = vg_sales_filled_year_2[vg_sales_filled_year_2['Year_of_Release'].isna()]\n",
    "\n",
    "# Generate a unique filename based on the current date and time\n",
    "timestamp = datetime.now().strftime('%Y%m%d_%H%M%S')\n",
    "filename = f'vg_sales_filled_year_2_no_year_{timestamp}.csv'\n",
    "\n",
    "# Save to a separate CSV file\n",
    "save_to_csv(vg_sales_filled_year_2_no_year, folder_path, filename)"
   ]
  },
  {
   "cell_type": "markdown",
   "metadata": {},
   "source": [
    "### Cancelled games in the dataset\n",
    "Brothers in Arms: Furious 4,X360,,Shooter,,0.01,0.0,0.0,0.0,0.01,,,,,Gearbox Software,M\n",
    "was never released and put into sales"
   ]
  },
  {
   "cell_type": "code",
   "execution_count": 14,
   "metadata": {},
   "outputs": [
    {
     "name": "stdout",
     "output_type": "stream",
     "text": [
      "File saved as results/vg_sales_cleaned_release_date/vg_sales_cleaned_release_date_20241210_170408.csv\n"
     ]
    }
   ],
   "source": [
    "# Remove the specified entry\n",
    "vg_sales_cleaned_release_date = vg_sales_filled_year_2.drop(index='Brothers in Arms: Furious 4') # type: ignore\n",
    "\n",
    "# Create a folder in results_path if it doesn't exist\n",
    "folder_name = 'vg_sales_cleaned_release_date'\n",
    "folder_path = os.path.join(results_path, folder_name)\n",
    "os.makedirs(folder_path, exist_ok=True)\n",
    "\n",
    "# Generate a unique filename based on the current date and time\n",
    "timestamp = datetime.now().strftime('%Y%m%d_%H%M%S')\n",
    "filename = f'vg_sales_cleaned_release_date_{timestamp}.csv'\n",
    "\n",
    "# Save the cleaned dataframe to a separate CSV file\n",
    "save_to_csv(vg_sales_cleaned_release_date, folder_path, filename)"
   ]
  },
  {
   "cell_type": "code",
   "execution_count": 15,
   "metadata": {},
   "outputs": [],
   "source": [
    "# vg_sales_v1\n",
    "vg_sales_v1 = pd.read_csv(vg_sales_path + vg_sales_res[\"v1\"], index_col=0)"
   ]
  },
  {
   "cell_type": "code",
   "execution_count": 19,
   "metadata": {},
   "outputs": [
    {
     "name": "stdout",
     "output_type": "stream",
     "text": [
      "Number of video games that have no release date : 0\n"
     ]
    }
   ],
   "source": [
    "# Isolate rows where Year_of_Release is NaN\n",
    "vg_sales_v1_no_release_date = vg_sales_v1[vg_sales_v1['Year_of_Release'].isna()]\n",
    "print(\"Number of video games that have no release date :\", len(vg_sales_v1_no_release_date))"
   ]
  },
  {
   "cell_type": "code",
   "execution_count": null,
   "metadata": {},
   "outputs": [],
   "source": []
  }
 ],
 "metadata": {
  "kernelspec": {
   "display_name": "vgsales_env",
   "language": "python",
   "name": "python3"
  },
  "language_info": {
   "codemirror_mode": {
    "name": "ipython",
    "version": 3
   },
   "file_extension": ".py",
   "mimetype": "text/x-python",
   "name": "python",
   "nbconvert_exporter": "python",
   "pygments_lexer": "ipython3",
   "version": "3.12.5"
  }
 },
 "nbformat": 4,
 "nbformat_minor": 2
}
